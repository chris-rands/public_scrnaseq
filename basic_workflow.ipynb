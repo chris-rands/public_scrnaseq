{
 "cells": [
  {
   "cell_type": "markdown",
   "metadata": {},
   "source": [
    "# A scanpy workflow for the initial basic processing of scRNA-seq data"
   ]
  },
  {
   "cell_type": "markdown",
   "metadata": {},
   "source": [
    "Note, this workflow does not have many steps- it is meant only to harmonize the basic upstream matrix processing analyses.\n",
    "\n",
    "This workflow is for processing 10X single cell transcriptomics data with scanpy. It is based on my own workflows, the [scanpy tutorial](https://scanpy-tutorials.readthedocs.io/en/latest/pbmc3k.html), and [best practise guidlines](https://github.com/theislab/single-cell-tutorial).\n",
    "\n",
    "Inputs:\n",
    "- CellRanger v3 matrix files (filtered)-- barcodes.tsv, genes.tsv, matrix.mtx\n",
    "- You may edit the input paramter `value`s in `params_lst`\n",
    "\n",
    "Outputs:\n",
    "- `.h5ad` output file with the `anndata` object containing the gene processed expression matrix\n",
    "\n",
    "Note, please install the depenancies with the correct versions via the `environment.yml` file using `conda` "
   ]
  },
  {
   "cell_type": "markdown",
   "metadata": {},
   "source": [
    "## User input parameters"
   ]
  },
  {
   "cell_type": "code",
   "execution_count": null,
   "metadata": {},
   "outputs": [],
   "source": [
    "import sys\n",
    "\n",
    "print(sys.version, sys.executable)\n",
    "assert sys.version_info[:2] == (3, 7)  # should have been installed via conda"
   ]
  },
  {
   "cell_type": "code",
   "execution_count": null,
   "metadata": {},
   "outputs": [],
   "source": [
    "# TODO: find a better way to specify paramters, this is overly complicated\n",
    "# Argparse style for notebooks or Mypy way for type checking?\n",
    "\n",
    "\n",
    "from dataclasses import dataclass\n",
    "from typing import Callable, Any\n",
    "from inspect import getsource\n",
    "\n",
    "\n",
    "@dataclass\n",
    "class Param:\n",
    "    \"\"\"Holds information on a particular user input parameter.\"\"\"\n",
    "\n",
    "    name: str\n",
    "    value: Any\n",
    "    description: str\n",
    "    func: Callable\n",
    "\n",
    "    def __bool__(self):\n",
    "        \"\"\"Forbid boolean comparisons.\"\"\"\n",
    "        raise NotImplementedError()\n",
    "\n",
    "    def __eq__(self, other):\n",
    "        \"\"\"Forbid equality comparisons\"\"\"\n",
    "        raise NotImplementedError()\n",
    "\n",
    "    def validate(self):\n",
    "        \"\"\"Validate the .value satisfies the .func\"\"\"\n",
    "        if not self.func(self.value):\n",
    "            _err = (\n",
    "                f\"parameter {self.name}={self.value}, \"\n",
    "                f\"should satisfy the function: {getsource(self.func).strip()}\"\n",
    "            )\n",
    "            raise Exception(_err)"
   ]
  },
  {
   "cell_type": "code",
   "execution_count": null,
   "metadata": {},
   "outputs": [],
   "source": [
    "%load_ext blackcellmagic"
   ]
  },
  {
   "cell_type": "markdown",
   "metadata": {},
   "source": [
    "Specifying the input directory and output file"
   ]
  },
  {
   "cell_type": "code",
   "execution_count": null,
   "metadata": {},
   "outputs": [],
   "source": [
    "# These values (i.e. 1st element like \"test_data\") should be edited to the desired settings\n",
    "\n",
    "params_lst = [\n",
    "    # File/directory names\n",
    "    Param(\n",
    "        \"input_dir\",\n",
    "        \"test_data\",  # Value-- can be edited\n",
    "        \"the directory containing subdirectories with the CellRanger filtered matrix.mtx file\",\n",
    "        lambda x: isinstance(x, str),\n",
    "    ),\n",
    "    Param(\n",
    "        \"output_file\",\n",
    "        \"results.h5ad\",  # Value-- can be edited\n",
    "        \".h5ad output file name\",\n",
    "        lambda x: isinstance(x, str),\n",
    "    ),\n",
    "    Param(\n",
    "        \"log_file\",\n",
    "        sys.stdout,  # Value-- can be edited\n",
    "        \"log file name, sys.stdout for printing\",\n",
    "        lambda x: lambda x: x == sys.stdout or isinstance(x, str),\n",
    "    ),\n",
    "    # Other params\n",
    "    Param(\n",
    "        \"min_genes\",\n",
    "        50,  # Value-- can be edited\n",
    "        \"filter cells with fewer than n genes expressed\",\n",
    "        lambda x: isinstance(x, int),\n",
    "    ),\n",
    "    Param(\n",
    "        \"min_cells\",\n",
    "        3,  # Value-- can be edited\n",
    "        \"filter genes expressed in fewer than n cells\",\n",
    "        lambda x: isinstance(x, int),\n",
    "    ),\n",
    "    Param(\n",
    "        \"highly_var\",\n",
    "        True,  # Value-- can be edited\n",
    "        \"calculate highly variable genes\",\n",
    "        lambda x: isinstance(x, bool),\n",
    "    ),\n",
    "    Param(\n",
    "        \"filter_n\",\n",
    "        False,  # Value-- can be edited\n",
    "        \"filter <4500 counts (arbituary value)\",\n",
    "        lambda x: isinstance(x, bool),\n",
    "    ),\n",
    "    Param(\"filter_mt\", False, \"filter <5% mitocondrial\", lambda x: isinstance(x, bool)),\n",
    "    Param(\n",
    "        \"correct\",\n",
    "        None,  # Value-- can be edited\n",
    "        \"batch correction method, use None or False for no correction\",\n",
    "        lambda x: x in {\"bbknn\", \"mnn\", \"combat\", False, None},\n",
    "    ),\n",
    "    Param(\n",
    "        \"doublet_rem\",\n",
    "        False,  # Value-- can be edited\n",
    "        \"remove doublets with scrublet\",\n",
    "        lambda x: isinstance(x, bool),\n",
    "    ),\n",
    "    Param(\n",
    "        \"regress\",\n",
    "        False,  # Value-- can be edited\n",
    "        \"regress out (mostly) unwanted sources of variation; not recomended\",\n",
    "        lambda x: isinstance(x, bool),\n",
    "    ),\n",
    "    Param(\n",
    "        \"scale\",\n",
    "        False,  # Value-- can be edited\n",
    "        \"scale data to unit variance and zero mean; not recomended\",\n",
    "        lambda x: isinstance(x, bool),\n",
    "    ),\n",
    "    Param(\n",
    "        \"exclude_high\",\n",
    "        False,  # Value-- can be edited\n",
    "        \"exclude very highly expressed genes during normalization\",\n",
    "        lambda x: isinstance(x, bool),\n",
    "    ),\n",
    "]\n",
    "\n",
    "for param in params_lst:\n",
    "    print(\n",
    "        f\"Name: {param.name}, Value: {param.value},\\nDescription: {param.description}\\n\"\n",
    "    )\n",
    "\n",
    "for param in params_lst:\n",
    "    param.validate()\n",
    "\n",
    "params = {param.name: param for param in params_lst}"
   ]
  },
  {
   "cell_type": "markdown",
   "metadata": {},
   "source": [
    "List of marker genes to plot later on the UMAP and other projections, you may edit the list"
   ]
  },
  {
   "cell_type": "markdown",
   "metadata": {},
   "source": [
    "## Initial configuration and logging"
   ]
  },
  {
   "cell_type": "markdown",
   "metadata": {},
   "source": [
    "Setup logging and imports"
   ]
  },
  {
   "cell_type": "code",
   "execution_count": null,
   "metadata": {},
   "outputs": [],
   "source": [
    "import os\n",
    "import glob\n",
    "\n",
    "import logging\n",
    "logging.basicConfig(stream=params[\"log_file\"].value, filemode=\"a\", level=logging.INFO)\n",
    "logging.info(sys.version_info)\n",
    "\n",
    "import collections\n",
    "import itertools\n",
    "\n",
    "import numpy as np\n",
    "import pandas as pd\n",
    "\n",
    "import scanpy as sc\n",
    "from anndata import AnnData\n",
    "\n",
    "sc.logging.logfile = params[\"log_file\"].value  # for scanpy's own logging\n",
    "\n",
    "import scrublet as scr\n",
    "logging.info(scr.__file__)"
   ]
  },
  {
   "cell_type": "markdown",
   "metadata": {},
   "source": [
    "Log config and settings"
   ]
  },
  {
   "cell_type": "code",
   "execution_count": null,
   "metadata": {},
   "outputs": [],
   "source": [
    "# Reproducibility settings\n",
    "import random\n",
    "\n",
    "seed = 42\n",
    "random.seed(seed)\n",
    "logging.info(\"random seed {}\".format(seed))\n",
    "hash_seed = os.environ.get(\"PYTHONHASHSEED\")\n",
    "logging.info(f\"PYTHONHASHSEED= {hash_seed}\")\n",
    "if hash_seed != 0:\n",
    "    logging.warning(\n",
    "        \"Set PYTHONHASHSEED environmnetal variable to 0 for reproducibility\"\n",
    "    )"
   ]
  },
  {
   "cell_type": "code",
   "execution_count": null,
   "metadata": {},
   "outputs": [],
   "source": [
    "# scanpy setttings\n",
    "sc.settings.verbosity = 3  # verbosity: errors (0), warnings (1), info (2), hints (3)\n",
    "sc.logging.print_versions()"
   ]
  },
  {
   "cell_type": "code",
   "execution_count": null,
   "metadata": {},
   "outputs": [],
   "source": [
    "# Increase plot resolution\n",
    "sc.settings.set_figure_params(dpi=80)"
   ]
  },
  {
   "cell_type": "markdown",
   "metadata": {},
   "source": [
    "## Read the input data and filter doublets"
   ]
  },
  {
   "cell_type": "code",
   "execution_count": null,
   "metadata": {},
   "outputs": [],
   "source": [
    "input_dir = sorted(\n",
    "    os.listdir(params[\"input_dir\"].value)\n",
    ")  # sort to ensure order is OS independent\n",
    "\n",
    "adata_list = []\n",
    "for each_dir in input_dir:\n",
    "    adata_tmp = sc.read_10x_mtx(\n",
    "        os.path.join(\n",
    "            params[\"input_dir\"].value, each_dir\n",
    "        ),  # the directory with the `.mtx` file\n",
    "        var_names=\"gene_symbols\",  # use gene symbols for the variable names (variables-axis index)\n",
    "        cache=True,\n",
    "    )  # write a cache file for faster subsequent reading # will this work with list?\n",
    "\n",
    "    # Check doublets in each 'batch' seperately\n",
    "    scrub = scr.Scrublet(adata_tmp.X)\n",
    "    (\n",
    "        adata_tmp.obs[\"doublet_scores\"],\n",
    "        adata_tmp.obs[\"predicted_doublets\"],\n",
    "    ) = scrub.scrub_doublets()\n",
    "    scrub.plot_histogram()\n",
    "    scrub.set_embedding('UMAP', scr.get_umap(scrub.manifold_obs_, 10, min_dist=0.3))\n",
    "    scrub.plot_embedding('UMAP', order_points=True)\n",
    "    if params[\"doublet_rem\"].value:\n",
    "        # Actually do the filtering\n",
    "        adata_tmp = adata_tmp[adata_tmp.obs[\"predicted_doublets\"] == False, :]\n",
    "\n",
    "    adata_list.append(adata_tmp)"
   ]
  },
  {
   "cell_type": "markdown",
   "metadata": {},
   "source": [
    "Concatenate the different batches (note you may want to name the batch categories)"
   ]
  },
  {
   "cell_type": "code",
   "execution_count": null,
   "metadata": {},
   "outputs": [],
   "source": [
    "# Use an older version of AnnData since the newer versions \n",
    "# have this bug that makes concatentaion slow\n",
    "# https://github.com/theislab/anndata/issues/303\n",
    "adata_merged = AnnData.concatenate(\n",
    "    *adata_list, join=\"outer\"\n",
    ")  # outer means union rather than intersection,\n",
    "# Note will fill with 0s\n",
    "adata_merged"
   ]
  },
  {
   "cell_type": "code",
   "execution_count": null,
   "metadata": {},
   "outputs": [],
   "source": [
    "# Check .obs look normal\n",
    "display(adata_merged.obs.head(2))\n",
    "adata_merged.obs.tail(2)"
   ]
  },
  {
   "cell_type": "code",
   "execution_count": null,
   "metadata": {},
   "outputs": [],
   "source": [
    "# Check the .var looks normal\n",
    "display(adata_merged.var.head(2))\n",
    "adata_merged.var.tail(2)"
   ]
  },
  {
   "cell_type": "code",
   "execution_count": null,
   "metadata": {},
   "outputs": [],
   "source": [
    "adata_merged.var_names_make_unique()  # this is unnecessary if using 'gene_ids'"
   ]
  },
  {
   "cell_type": "markdown",
   "metadata": {},
   "source": [
    "## Filtering and normalisation"
   ]
  },
  {
   "cell_type": "markdown",
   "metadata": {},
   "source": [
    "Show those genes that yield the highest fraction of counts in each single cells, across all cells."
   ]
  },
  {
   "cell_type": "code",
   "execution_count": null,
   "metadata": {},
   "outputs": [],
   "source": [
    "sc.pl.highest_expr_genes(adata_merged, n_top=20)"
   ]
  },
  {
   "cell_type": "markdown",
   "metadata": {},
   "source": [
    "Minimal filtering"
   ]
  },
  {
   "cell_type": "code",
   "execution_count": null,
   "metadata": {},
   "outputs": [],
   "source": [
    "sc.pp.filter_cells(adata_merged, min_genes=params[\"min_genes\"].value)\n",
    "sc.pp.filter_genes(adata_merged, min_cells=params[\"min_cells\"].value)"
   ]
  },
  {
   "cell_type": "code",
   "execution_count": null,
   "metadata": {},
   "outputs": [],
   "source": [
    "mito_genes = adata_merged.var_names.str.startswith(\"MT-\")\n",
    "# for each cell compute fraction of counts in mito genes vs. all genes\n",
    "# the `.A1` is only necessary as X is sparse (to transform to a dense array after summing)\n",
    "adata_merged.obs[\"percent_mito\"] = (\n",
    "    np.sum(adata_merged[:, mito_genes].X, axis=1).A1 / np.sum(adata_merged.X, axis=1).A1\n",
    ")\n",
    "# add the total counts per cell as observations-annotation to adata\n",
    "adata_merged.obs[\"n_counts\"] = adata_merged.X.sum(axis=1).A1"
   ]
  },
  {
   "cell_type": "code",
   "execution_count": null,
   "metadata": {},
   "outputs": [],
   "source": [
    "sc.pl.violin(adata_merged, ['n_genes', 'n_counts', 'percent_mito'],\n",
    "             jitter=0.4, multi_panel=True)"
   ]
  },
  {
   "cell_type": "code",
   "execution_count": null,
   "metadata": {},
   "outputs": [],
   "source": [
    "# More optional filtering\n",
    "if params[\"filter_n\"].value:\n",
    "    adata_merged = adata_merged[adata_merged.obs['n_genes'] < 4500, :]\n",
    "    \n",
    "if params[\"filter_mt\"].value:\n",
    "    adata_merged = adata_merged[adata_merged.obs['percent_mito'] < 0.05, :]"
   ]
  },
  {
   "cell_type": "markdown",
   "metadata": {},
   "source": [
    "Normalize data"
   ]
  },
  {
   "cell_type": "code",
   "execution_count": null,
   "metadata": {},
   "outputs": [],
   "source": [
    "#after normalization, each observation (cell) has a total count equal to \n",
    "# the median of total counts for observations (cells) before normalization\"\n",
    "sc.pp.normalize_total(adata_merged,\n",
    "                      exclude_highly_expressed=params[\"exclude_high\"].value)"
   ]
  },
  {
   "cell_type": "markdown",
   "metadata": {},
   "source": [
    "Log-transform the data"
   ]
  },
  {
   "cell_type": "code",
   "execution_count": null,
   "metadata": {},
   "outputs": [],
   "source": [
    "sc.pp.log1p(adata_merged)"
   ]
  },
  {
   "cell_type": "code",
   "execution_count": null,
   "metadata": {},
   "outputs": [],
   "source": [
    "logging.info(f'Total number of cells: {adata_merged.n_obs:d}\\n'\n",
    "             f'Total number of genes: {adata_merged.n_vars:d}')"
   ]
  },
  {
   "cell_type": "markdown",
   "metadata": {},
   "source": [
    "Save the results"
   ]
  },
  {
   "cell_type": "code",
   "execution_count": null,
   "metadata": {},
   "outputs": [],
   "source": [
    "adata_merged.write(params[\"output_file\"].value, compression='gzip')"
   ]
  },
  {
   "cell_type": "markdown",
   "metadata": {},
   "source": [
    "Other downstream analyses deliberately not included"
   ]
  }
 ],
 "metadata": {
  "anaconda-cloud": {},
  "kernelspec": {
   "display_name": "Python 3",
   "language": "python",
   "name": "python3"
  },
  "language_info": {
   "codemirror_mode": {
    "name": "ipython",
    "version": 3
   },
   "file_extension": ".py",
   "mimetype": "text/x-python",
   "name": "python",
   "nbconvert_exporter": "python",
   "pygments_lexer": "ipython3",
   "version": "3.7.6"
  }
 },
 "nbformat": 4,
 "nbformat_minor": 2
}
